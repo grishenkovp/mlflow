{
 "cells": [
  {
   "cell_type": "code",
   "execution_count": 31,
   "metadata": {},
   "outputs": [],
   "source": [
    "import mlflow\n",
    "import mlflow.sklearn\n",
    "from mlflow.tracking.client import MlflowClient\n",
    "import mlflow.pyfunc\n",
    "import pandas as pd\n",
    "from sklearn.linear_model import LinearRegression\n",
    "from sklearn.datasets import load_boston\n",
    "from sklearn.metrics import mean_absolute_error"
   ]
  },
  {
   "cell_type": "code",
   "execution_count": 5,
   "metadata": {},
   "outputs": [],
   "source": [
    "data = load_boston()\n",
    "X = pd.DataFrame(data.data)\n",
    "y = data.target"
   ]
  },
  {
   "cell_type": "code",
   "execution_count": 6,
   "metadata": {},
   "outputs": [],
   "source": [
    "def train_sklearn_model(X, y):\n",
    "  model = LinearRegression() \n",
    "  model.fit(X, y)\n",
    "  return model"
   ]
  },
  {
   "cell_type": "code",
   "execution_count": 7,
   "metadata": {},
   "outputs": [],
   "source": [
    "sql_string = \"http://localhost:5000\"\n",
    "mlflow.set_tracking_uri(sql_string)"
   ]
  },
  {
   "cell_type": "code",
   "execution_count": 8,
   "metadata": {},
   "outputs": [],
   "source": [
    "# Создаем эксперимент\n",
    "expname = \"Boston_exp\"\n",
    "exp_id = mlflow.create_experiment(expname)\n"
   ]
  },
  {
   "cell_type": "code",
   "execution_count": 9,
   "metadata": {},
   "outputs": [
    {
     "name": "stdout",
     "output_type": "stream",
     "text": [
      "1\n"
     ]
    }
   ],
   "source": [
    "print(exp_id)"
   ]
  },
  {
   "cell_type": "code",
   "execution_count": 10,
   "metadata": {},
   "outputs": [
    {
     "name": "stderr",
     "output_type": "stream",
     "text": [
      "2021/12/31 10:56:50 WARNING mlflow.utils.autologging_utils: You are using an unsupported version of sklearn. If you encounter errors during autologging, try upgrading / downgrading sklearn to a supported version, or try upgrading MLflow.\n"
     ]
    }
   ],
   "source": [
    "with mlflow.start_run(experiment_id=exp_id, run_name='sk'):\n",
    "  # Автоматом сохраняет model's parameters, metrics, artifacts\n",
    "  mlflow.sklearn.autolog()\n",
    "  train_sklearn_model(X, y)\n",
    "  run_id_sk = mlflow.active_run().info.run_id"
   ]
  },
  {
   "cell_type": "code",
   "execution_count": 11,
   "metadata": {},
   "outputs": [
    {
     "name": "stdout",
     "output_type": "stream",
     "text": [
      "b93f7cc7e5fd4726a9ed71a56be33474\n"
     ]
    }
   ],
   "source": [
    "print(run_id_sk)"
   ]
  },
  {
   "cell_type": "code",
   "execution_count": 12,
   "metadata": {},
   "outputs": [
    {
     "name": "stderr",
     "output_type": "stream",
     "text": [
      "Successfully registered model 'model_boston_sk'.\n",
      "2021/12/31 10:57:43 INFO mlflow.tracking._model_registry.client: Waiting up to 300 seconds for model version to finish creation.                     Model name: model_boston_sk, version 1\n",
      "Created version '1' of model 'model_boston_sk'.\n"
     ]
    }
   ],
   "source": [
    "# Задаем имя модели\n",
    "model_name = \"model_boston_sk\"\n",
    " \n",
    "# Стандартный путь к каталогу с моделями\n",
    "artifact_path = \"model\"\n",
    "model_uri = \"runs:/{run_id}/{artifact_path}\".format(run_id=run_id_sk, artifact_path=artifact_path)\n",
    " \n",
    "model_details_sk = mlflow.register_model(model_uri=model_uri, name=model_name)"
   ]
  },
  {
   "cell_type": "code",
   "execution_count": 13,
   "metadata": {},
   "outputs": [
    {
     "data": {
      "text/plain": [
       "<RegisteredModel: creation_timestamp=1640930263815, description='Линейная регрессия', last_updated_timestamp=1640930273959, latest_versions=[<ModelVersion: creation_timestamp=1640930263949, current_stage='None', description='', last_updated_timestamp=1640930263949, name='model_boston_sk', run_id='b93f7cc7e5fd4726a9ed71a56be33474', run_link='', source='mlflow/1/b93f7cc7e5fd4726a9ed71a56be33474/artifacts/model', status='READY', status_message='', tags={}, user_id='', version='1'>], name='model_boston_sk', tags={}>"
      ]
     },
     "execution_count": 13,
     "metadata": {},
     "output_type": "execute_result"
    }
   ],
   "source": [
    "# Описание совокупности моделей\n",
    "client = MlflowClient()\n",
    "client.update_registered_model(\n",
    "  name=model_details_sk.name,\n",
    "  description=\"Линейная регрессия\"\n",
    ")"
   ]
  },
  {
   "cell_type": "code",
   "execution_count": 14,
   "metadata": {},
   "outputs": [
    {
     "data": {
      "text/plain": [
       "<ModelVersion: creation_timestamp=1640930263949, current_stage='None', description='Линейная регрессия. Версия 1', last_updated_timestamp=1640930280734, name='model_boston_sk', run_id='b93f7cc7e5fd4726a9ed71a56be33474', run_link='', source='mlflow/1/b93f7cc7e5fd4726a9ed71a56be33474/artifacts/model', status='READY', status_message='', tags={}, user_id='', version='1'>"
      ]
     },
     "execution_count": 14,
     "metadata": {},
     "output_type": "execute_result"
    }
   ],
   "source": [
    "# Описание версии моделей\n",
    "client.update_model_version(\n",
    "  name=model_details_sk.name,\n",
    "  version=model_details_sk.version,\n",
    "  description=\"Линейная регрессия. Версия 1\"\n",
    ")\n"
   ]
  },
  {
   "cell_type": "code",
   "execution_count": 16,
   "metadata": {},
   "outputs": [
    {
     "data": {
      "text/plain": [
       "<ModelVersion: creation_timestamp=1640930263949, current_stage='Production', description='Линейная регрессия. Версия 1', last_updated_timestamp=1640930958089, name='model_boston_sk', run_id='b93f7cc7e5fd4726a9ed71a56be33474', run_link='', source='mlflow/1/b93f7cc7e5fd4726a9ed71a56be33474/artifacts/model', status='READY', status_message='', tags={}, user_id='', version='1'>"
      ]
     },
     "execution_count": 16,
     "metadata": {},
     "output_type": "execute_result"
    }
   ],
   "source": [
    "# Изменяем ТЕГ модели\n",
    "client.transition_model_version_stage(\n",
    "  name=model_details_sk.name,\n",
    "  version=model_details_sk.version,\n",
    "  stage='Production',\n",
    ")"
   ]
  },
  {
   "cell_type": "code",
   "execution_count": 20,
   "metadata": {},
   "outputs": [
    {
     "name": "stdout",
     "output_type": "stream",
     "text": [
      "The current model stage is: 'None'\n"
     ]
    }
   ],
   "source": [
    "# Смотрим на статус модели по имени\n",
    "model_version_details = client.get_model_version(\n",
    "  name=model_details_sk.name,\n",
    "  version=model_details_sk.version,\n",
    ")\n",
    "print(\"The current model stage is: '{stage}'\".format(stage=model_details_sk.current_stage))"
   ]
  },
  {
   "cell_type": "code",
   "execution_count": 21,
   "metadata": {},
   "outputs": [
    {
     "name": "stdout",
     "output_type": "stream",
     "text": [
      "The latest production version of the model 'model_boston_sk' is '1'.\n"
     ]
    }
   ],
   "source": [
    "latest_version_info = client.get_latest_versions(model_name, stages=[\"Production\"])\n",
    "latest_production_version = latest_version_info[0].version\n",
    "print(\"The latest production version of the model '%s' is '%s'.\" % (model_name, latest_production_version))"
   ]
  },
  {
   "cell_type": "code",
   "execution_count": 22,
   "metadata": {},
   "outputs": [
    {
     "data": {
      "text/plain": [
       "[<Experiment: artifact_location='mlflow/0', experiment_id='0', lifecycle_stage='active', name='Default', tags={}>,\n",
       " <Experiment: artifact_location='mlflow/1', experiment_id='1', lifecycle_stage='active', name='Boston_exp', tags={}>]"
      ]
     },
     "execution_count": 22,
     "metadata": {},
     "output_type": "execute_result"
    }
   ],
   "source": [
    "experiments = client.list_experiments()\n",
    "experiments"
   ]
  },
  {
   "cell_type": "code",
   "execution_count": 23,
   "metadata": {},
   "outputs": [
    {
     "data": {
      "text/plain": [
       "'1'"
      ]
     },
     "execution_count": 23,
     "metadata": {},
     "output_type": "execute_result"
    }
   ],
   "source": [
    "experiments[-1].experiment_id"
   ]
  },
  {
   "cell_type": "code",
   "execution_count": 24,
   "metadata": {},
   "outputs": [
    {
     "data": {
      "text/plain": [
       "<Run: data=<RunData: metrics={}, params={}, tags={}>, info=<RunInfo: artifact_uri='mlflow/1/464056b50cb84bfaab18220d886cc06c/artifacts', end_time=None, experiment_id='1', lifecycle_stage='active', run_id='464056b50cb84bfaab18220d886cc06c', run_uuid='464056b50cb84bfaab18220d886cc06c', start_time=1640931512423, status='RUNNING', user_id='unknown'>>"
      ]
     },
     "execution_count": 24,
     "metadata": {},
     "output_type": "execute_result"
    }
   ],
   "source": [
    "run = client.create_run(experiments[-1].experiment_id)\n",
    "run\n"
   ]
  },
  {
   "cell_type": "code",
   "execution_count": 25,
   "metadata": {},
   "outputs": [
    {
     "data": {
      "text/plain": [
       "[<RunInfo: artifact_uri='mlflow/1/464056b50cb84bfaab18220d886cc06c/artifacts', end_time=None, experiment_id='1', lifecycle_stage='active', run_id='464056b50cb84bfaab18220d886cc06c', run_uuid='464056b50cb84bfaab18220d886cc06c', start_time=1640931512423, status='RUNNING', user_id='unknown'>,\n",
       " <RunInfo: artifact_uri='mlflow/1/b93f7cc7e5fd4726a9ed71a56be33474/artifacts', end_time=1640930232244, experiment_id='1', lifecycle_stage='active', run_id='b93f7cc7e5fd4726a9ed71a56be33474', run_uuid='b93f7cc7e5fd4726a9ed71a56be33474', start_time=1640930210887, status='FINISHED', user_id='pavel'>]"
      ]
     },
     "execution_count": 25,
     "metadata": {},
     "output_type": "execute_result"
    }
   ],
   "source": [
    "client.list_run_infos(experiments[-1].experiment_id)"
   ]
  },
  {
   "cell_type": "code",
   "execution_count": 28,
   "metadata": {},
   "outputs": [
    {
     "name": "stdout",
     "output_type": "stream",
     "text": [
      "Loading registered model version from URI: 'models:/model_boston_sk/1'\n"
     ]
    }
   ],
   "source": [
    "model_version_uri = \"models:/{model_name}/1\".format(model_name=model_details_sk.name)\n",
    " \n",
    "print(\"Loading registered model version from URI: '{model_uri}'\".format(model_uri=model_version_uri))\n",
    "model_sk = mlflow.pyfunc.load_model(model_version_uri)"
   ]
  },
  {
   "cell_type": "code",
   "execution_count": 30,
   "metadata": {},
   "outputs": [
    {
     "data": {
      "text/plain": [
       "array([30.00384338, 25.02556238, 30.56759672, 28.60703649, 27.94352423])"
      ]
     },
     "execution_count": 30,
     "metadata": {},
     "output_type": "execute_result"
    }
   ],
   "source": [
    "y_predict = model_sk.predict(X)\n",
    "y_predict[:5]"
   ]
  },
  {
   "cell_type": "code",
   "execution_count": 32,
   "metadata": {},
   "outputs": [
    {
     "data": {
      "text/plain": [
       "3.270862810900316"
      ]
     },
     "execution_count": 32,
     "metadata": {},
     "output_type": "execute_result"
    }
   ],
   "source": [
    "mean_absolute_error(y,y_predict)"
   ]
  }
 ],
 "metadata": {
  "interpreter": {
   "hash": "338b2f9442a8dae41bd477781d73714eed5b6a80890444cfb43186c519efa104"
  },
  "kernelspec": {
   "display_name": "Python 3.9.2 64-bit ('.env': venv)",
   "language": "python",
   "name": "python3"
  },
  "language_info": {
   "codemirror_mode": {
    "name": "ipython",
    "version": 3
   },
   "file_extension": ".py",
   "mimetype": "text/x-python",
   "name": "python",
   "nbconvert_exporter": "python",
   "pygments_lexer": "ipython3",
   "version": "3.9.2"
  },
  "orig_nbformat": 4
 },
 "nbformat": 4,
 "nbformat_minor": 2
}
